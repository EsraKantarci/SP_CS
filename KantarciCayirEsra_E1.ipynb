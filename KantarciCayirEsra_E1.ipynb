{
  "nbformat": 4,
  "nbformat_minor": 0,
  "metadata": {
    "colab": {
      "name": "KantarciCayirEsra_E1.ipynb",
      "provenance": [],
      "collapsed_sections": []
    },
    "kernelspec": {
      "name": "python3",
      "display_name": "Python 3"
    },
    "language_info": {
      "name": "python"
    }
  },
  "cells": [
    {
      "cell_type": "markdown",
      "source": [
        "# Scientific Programming 2022 - Exercise 1 \n",
        "### Student Name/Number: Esra Kantarcı Çayır - 202151056015\n",
        "\n",
        "In this Notebook, you will find answers for first 3 section of the exercise 1 from https://web.stanford.edu/~schmit/cme193/ex/exercises.pdf \n",
        "\n",
        "A) BASICS\n",
        "\n",
        "\n",
        "\n",
        "\n",
        "1. Exercise 1.1: The interpreter\n",
        "\n",
        "* Open the Python interpeter. What happens when you input the following statements:\n",
        "\n",
        "(a) 3 + 1\n",
        "\n",
        "(b) 3 * 3\n",
        "\n",
        "(c) 2 ** 3\n",
        "\n",
        "(d) \"Hello, world!\"\n",
        "\n"
      ],
      "metadata": {
        "id": "S5t3pnQvja-P"
      }
    },
    {
      "cell_type": "code",
      "source": [
        "#a:\n",
        "3+1\n",
        "\n",
        "#b:\n",
        "3*3\n",
        "\n",
        "#c:\n",
        "2**3\n",
        "\n",
        "#d:\n",
        "\"Hello, World!\""
      ],
      "metadata": {
        "colab": {
          "base_uri": "https://localhost:8080/",
          "height": 35
        },
        "id": "wBi5VmGfm32d",
        "outputId": "6104e39b-c219-4359-ebd8-4d5370400142"
      },
      "execution_count": null,
      "outputs": [
        {
          "output_type": "execute_result",
          "data": {
            "application/vnd.google.colaboratory.intrinsic+json": {
              "type": "string"
            },
            "text/plain": [
              "'Hello, World!'"
            ]
          },
          "metadata": {},
          "execution_count": 101
        }
      ]
    },
    {
      "cell_type": "markdown",
      "source": [
        "\n",
        "2. Exercise 1.2: Scripts\n",
        "\n",
        "* Now copy the above to a script, and save it as script1.py. What happens if you run the script? (try: python script1.py). \n",
        "Can you fix this (hint: use the print function)\n",
        "\n",
        "\n",
        "**Answer:** Only the last input's output is going to be visible; if we want to show all, we should have used seperate cells for each input. "
      ],
      "metadata": {
        "id": "GB2h0L2om4Kk"
      }
    },
    {
      "cell_type": "code",
      "source": [
        "#a:\n",
        "print(3+1)\n",
        "\n",
        "#b:\n",
        "print(3*3)\n",
        "\n",
        "#c:\n",
        "print(2**3)\n",
        "\n",
        "#d:\n",
        "print(\"Hello, World!\")"
      ],
      "metadata": {
        "colab": {
          "base_uri": "https://localhost:8080/"
        },
        "id": "l-LUFe-8lbHc",
        "outputId": "c47d8aa2-d8b9-445b-be30-863ac22e216c"
      },
      "execution_count": null,
      "outputs": [
        {
          "output_type": "stream",
          "name": "stdout",
          "text": [
            "4\n",
            "9\n",
            "8\n",
            "Hello, World!\n"
          ]
        }
      ]
    },
    {
      "cell_type": "markdown",
      "source": [
        "\n",
        "\n",
        "3. Exercise 1.3: More interpreter\n",
        "* Explain the output of the following statements if executed subsequently:\n",
        "\n",
        "(a) ’py’ + ’thon’ **--> Answer:** \"python\" will be shown as output\n",
        "\n",
        "(b) ’py’ * 3 + ’thon’ **--> Answer:** \"pypypython\" will be shown as output; \"py\" part will be duplicated 3 times.\n",
        "\n",
        "(c) ’py’ - ’py’ **--> Answer:** Since strings do not support substraction, TypeError will be thrown.\n",
        "\n",
        "(d) ’3’ + 3 **--> Answer:** TypeError due first one is string while other one is integer, therefore there will be type mismatch. (JS would support this, though.)\n",
        "\n",
        "(e) 3 * ’3’ **--> Answer:** 333, same operation as in (b), but this time the string is '3' which is the last input in the sequence. \n",
        "\n",
        "(f) a **--> Answer:** NameError, because there is no variable defined as \"a\" right now. \n",
        "\n",
        "(g) a = 3 **--> Answer:** a is initialized to 3, no output though.\n",
        "\n",
        "(h) a **--> Answer:** Now there will be no issue, a will show 3.\n",
        "\n",
        "Unless the errornous parts are commented, the code will not be run properly. You can see the subsequently executed output below.\n"
      ],
      "metadata": {
        "id": "MiGUoDEincQc"
      }
    },
    {
      "cell_type": "code",
      "source": [
        "\"py\" + \"thon\"\n",
        "\"py\"*3+\"thon\"\n",
        "#\"py\"-\"py\"\n",
        "#\"3\"+3\n",
        "3*\"3\"\n",
        "#a\n",
        "a=3\n",
        "a"
      ],
      "metadata": {
        "colab": {
          "base_uri": "https://localhost:8080/"
        },
        "id": "5EXNaARVn8yV",
        "outputId": "dafdf2d0-6524-4d12-f5b0-bf48b6ec9a7a"
      },
      "execution_count": null,
      "outputs": [
        {
          "output_type": "execute_result",
          "data": {
            "text/plain": [
              "3"
            ]
          },
          "metadata": {},
          "execution_count": 103
        }
      ]
    },
    {
      "cell_type": "markdown",
      "source": [
        "\n",
        "\n",
        "\n",
        "4. Exercise 1.4: Booleans\n",
        "* Explain the output of the following statements:\n",
        "\n",
        "(a) 1 == 1\n",
        "\n",
        "(b) 1 == True\n",
        "\n",
        "(c) 0 == True\n",
        "\n",
        "(d) 0 == False\n",
        "\n",
        "(e) 3 == 1 * 3\n",
        "\n",
        "(f) (3 == 1) * 3\n",
        "\n",
        "(g) (3 == 3) * 4 + 3 == 1\n",
        "\n",
        "(h) 3\\*\\*5 >= 4\\*\\*4"
      ],
      "metadata": {
        "id": "zB6BmuJzqBMc"
      }
    },
    {
      "cell_type": "code",
      "source": [
        "print(1 == 1) # Is 1 equal to 1? Yes. Boolean value returns true\n",
        "print (1 == True) # True boolean is 1 as int, where False is 0 as binary. This returns true as well.\n",
        "print (0 == True) # Because of the same reason as (b), this returns false. Because False != True.\n",
        "print (0 == False) # Same reason as (b), returns true.\n",
        "print (3 == 1*3) # Is 3 equal to (1*3) which is 3? Yes. Boolean value returns true.\n",
        "print ((3 == 1)*3) # First do boolean operation, which is false and equiavalent of 0, then do the next, which is 0*3=0\n",
        "print ((3==3)*4+3 == 1) # (3==3)-> true -> 1*4+3 = 4+3 = 7 and it is not equal to 1, therefore, false.\n",
        "print (3**5 >= 4**4) # 5th power of 3 is 243, 4 to the power 4 is 256. Statement returns false because 243<256"
      ],
      "metadata": {
        "colab": {
          "base_uri": "https://localhost:8080/"
        },
        "id": "BFpahavaqCCd",
        "outputId": "3576fd88-57d0-4f55-b80e-a71715bd53de"
      },
      "execution_count": null,
      "outputs": [
        {
          "output_type": "stream",
          "name": "stdout",
          "text": [
            "True\n",
            "True\n",
            "False\n",
            "True\n",
            "True\n",
            "0\n",
            "False\n",
            "False\n"
          ]
        }
      ]
    },
    {
      "cell_type": "markdown",
      "source": [
        "5. Exercise 1.5: Integers\n",
        "* Explain the output of the following statements:\n",
        "\n",
        "(a) 5 / 3 \n",
        "\n",
        "(b) 5 % 3\n",
        "\n",
        "(c) 5.0 / 3\n",
        "\n",
        "(d) 5 / 3.0\n",
        "\n",
        "(e) 5.2 % 3\n",
        "\n",
        "(f) 2001 ** 200"
      ],
      "metadata": {
        "id": "y65SzqUiroOj"
      }
    },
    {
      "cell_type": "code",
      "source": [
        "print(5/3) #Normal division\n",
        "print(5%3) #Remainder operation\n",
        "print(5.0/3) #Implicit casting to float type at 5.0, still normal division\n",
        "print(5/3.0) #same as (c)\n",
        "print(5.2%3) #same as (b) with a floating value\n",
        "print(2001**200) #power operation, prettly long, my calculator says \"infinity\" but Python's compiler and Wolfram Alpha says it is OK."
      ],
      "metadata": {
        "colab": {
          "base_uri": "https://localhost:8080/"
        },
        "id": "O2cV3Ebsrv_6",
        "outputId": "b1ae0f76-b1a0-4384-d4df-517188670545"
      },
      "execution_count": null,
      "outputs": [
        {
          "output_type": "stream",
          "name": "stdout",
          "text": [
            "1.6666666666666667\n",
            "2\n",
            "1.6666666666666667\n",
            "1.6666666666666667\n",
            "2.2\n",
            "1775896810483121914350934797871501063452843428843794422323202530887281536545210629921129898113201749875234297340507804201761453596034016264189501186924066128377025843892373608427790859511135990682732202975330824797118808624727351608183194154557208730494440110429635650057431833674286462463508755276302896154336475782768613964332764108132533925570342220340698973761380541294970139762186212823359128790706292900765512137078550033912252338262922477518858757114840012576514724742388124595061301502222934806074032688691170880996881967426442947828261057852871032366879179996122216385870273020506079240103910728766397733398071775041745854959302025036249707279600400001\n"
          ]
        }
      ]
    },
    {
      "cell_type": "markdown",
      "source": [
        "\n",
        "\n",
        "6. Exercise 1.6: Floats\n",
        "* Explain the output of the following statements:\n",
        "\n",
        "(a) 2000.3 ** 200 (compare with above) **--> Answer:** It gave OverflowError as in my calculator, because float values need more operations to be considered and calculation takes too much space in the stack, therefore the results as out of range message.\n",
        "\n",
        "(b) 1.0 + 1.0 - 1.0 **--> Answer:** Float add and substract operations.\n",
        "\n",
        "(c) 1.0 + 1.0e20 - 1.0e20 **--> Answer:** Float add and substract operations with scientific indicators to show how many digits there should be shown after comma. Normally the output could range 0.0e20, however since the value is simply 0 without any different digit values afterwards; it returned 0.0 \n"
      ],
      "metadata": {
        "id": "xl_Z7auRsyXs"
      }
    },
    {
      "cell_type": "code",
      "source": [
        "#print(2000.3 ** 200) \n",
        "print(1.0+1.0-1.0)\n",
        "print(1.0+1.0e20 - 1.0e20)"
      ],
      "metadata": {
        "colab": {
          "base_uri": "https://localhost:8080/"
        },
        "id": "dW23GLfrs0Sj",
        "outputId": "69a5d8b5-225e-48c3-d958-77e6fca49685"
      },
      "execution_count": null,
      "outputs": [
        {
          "output_type": "stream",
          "name": "stdout",
          "text": [
            "1.0\n",
            "0.0\n"
          ]
        }
      ]
    },
    {
      "cell_type": "markdown",
      "source": [
        "\n",
        "7. Exercise 1.7: Variables\n",
        "* Write a script where the variable name holds a string with your name. Then, assuming for now your name is John Doe, have the script output: Hello, John Doe! (and obviously, do not use print \"Hello,\n",
        "John Doe!\")\n"
      ],
      "metadata": {
        "id": "SrElBDiwunrb"
      }
    },
    {
      "cell_type": "code",
      "source": [
        "print(\"Hello, John Doe!\\n Heh, just kidding.\\n\\n\")\n",
        "\n",
        "def printer(name):\n",
        "  print(\"Hello, \" + name + \"!\")\n",
        "\n",
        "inputName = input(\"Enter your name: \")\n",
        "printer(inputName)"
      ],
      "metadata": {
        "colab": {
          "base_uri": "https://localhost:8080/"
        },
        "id": "sJPJceQnuo9i",
        "outputId": "f2d8a2c4-c25e-4f55-c8fd-cec0e77a2aa3"
      },
      "execution_count": null,
      "outputs": [
        {
          "output_type": "stream",
          "name": "stdout",
          "text": [
            "Hello, John Doe!\n",
            " Heh, just kidding.\n",
            "\n",
            "\n",
            "Enter your name: Esra\n",
            "Hello, Esra!\n"
          ]
        }
      ]
    },
    {
      "cell_type": "markdown",
      "source": [
        "\n",
        "\n",
        "8. Exercise 1.8: Type casting\n",
        "* Very often, one wants to “cast” variables of a certain type into another type. Suppose we have variable\n",
        "x = ’123’, but really we would like x to be an integer.\n",
        "This is easy to do in Python, just use desiredtype(x), e.g. int(x) to obtain an integer.\n",
        "Try the following and explain the output\n",
        "\n",
        "(a) float(123)\n",
        "\n",
        "(b) float(’123’)\n",
        "\n",
        "(c) float(’123.23’)\n",
        "\n",
        "(d) int(123.23)\n",
        "\n",
        "(e) int(’123.23’)\n",
        "\n",
        "(f) int(float(’123.23’))\n",
        "\n",
        "(g) str(12)\n",
        "\n",
        "(h) str(12.2)\n",
        "\n",
        "(i) bool(’a’)\n",
        "\n",
        "(j) bool(0)\n",
        "\n",
        "(k) bool(0.1)\n",
        "\n"
      ],
      "metadata": {
        "id": "0XueLcQ0lY_1"
      }
    },
    {
      "cell_type": "code",
      "execution_count": null,
      "metadata": {
        "colab": {
          "base_uri": "https://localhost:8080/"
        },
        "id": "G-udn60ljISQ",
        "outputId": "a1389af8-1dee-4f1f-868c-dc4e4b4642c6"
      },
      "outputs": [
        {
          "output_type": "stream",
          "name": "stdout",
          "text": [
            "123.0\n",
            "123.0\n",
            "123.23\n",
            "123\n",
            "123\n",
            "12\n",
            "12.2\n",
            "True\n",
            "False\n",
            "True\n"
          ]
        }
      ],
      "source": [
        "print(float(123)) #simple casting int to float type\n",
        "print(float(\"123\")) #simple casting string to float type\n",
        "print(float(\"123.23\")) #same as (b)\n",
        "print(int(123.23)) #simple casting float to int, which removes the decimal part\n",
        "#int(int(\"123.23\")) #returns error, because the str should be casted into float first, then converted into int\n",
        "print(int(float(\"123.23\"))) #my exact points as in (f)\n",
        "print(str(12)) #string value of \"12\"\n",
        "print(str(12.2)) #string value of \"12.2\"\n",
        "print(bool(\"a\")) #any value other than 0 is true in boolean\n",
        "print(bool(0)) #0 is false in boolean\n",
        "print(bool(0.1)) #0.1 is a value which is not 0, so it is true.\n"
      ]
    },
    {
      "cell_type": "markdown",
      "source": [
        "B) CONTROL FLOW\n",
        "\n",
        "1. Exercise 2.1: Range\n",
        "\n",
        "Type range(5) in the interpreter, what does the interpreter return? So what does for i in range(5) mean?\n",
        "\n",
        "Let’s also find out whether the interpreter can help us understand the object ‘range(5)’ better. Type type(range(5)) in the interpreter.\n",
        "\n",
        "**Answer:** Although the interpreter does not have best explanations, range() is a function which is used for loops. It has start, end and step values. Start is 0 and step is 1 by default. So when we say \"range(5)\" we actually state: range(0,5,1) implicitly.  "
      ],
      "metadata": {
        "id": "rgEVhyYRxyQK"
      }
    },
    {
      "cell_type": "code",
      "source": [
        "print(range(5))\n",
        "type(range(5))"
      ],
      "metadata": {
        "colab": {
          "base_uri": "https://localhost:8080/"
        },
        "id": "OKY3ele5x03z",
        "outputId": "7d7ac430-1ec9-4b20-b6ef-5ab842ba5f26"
      },
      "execution_count": null,
      "outputs": [
        {
          "output_type": "stream",
          "name": "stdout",
          "text": [
            "range(0, 5)\n"
          ]
        },
        {
          "output_type": "execute_result",
          "data": {
            "text/plain": [
              "range"
            ]
          },
          "metadata": {},
          "execution_count": 109
        }
      ]
    },
    {
      "cell_type": "markdown",
      "source": [
        "\n",
        "2. Exercise 2.2: For loops\n",
        "\n",
        "Use a for loop to:\n",
        "\n",
        "(a) Print the numbers 0 to 100\n",
        "\n",
        "(b) Print the numbers 0 to 100 that are divisible by 7\n",
        "\n",
        "(c) Print the numbers 1 to 100 that are divisible by 5 but not by 3\n",
        "\n",
        "(d) Print for each of the numbers x = 2, . . . 20, all numbers that divide x, excluding 1 and x. Hence,\n",
        "for 18, it should print 2 3 6 9.\n",
        "\n",
        "Hint: see https://docs.python.org/2.7/library/functions.html#range."
      ],
      "metadata": {
        "id": "AlkF6qb5y9gb"
      }
    },
    {
      "cell_type": "code",
      "source": [
        "#a:\n",
        "for i in range(100):\n",
        "  print(i)\n"
      ],
      "metadata": {
        "id": "xbpT5JNkzg1r",
        "colab": {
          "base_uri": "https://localhost:8080/"
        },
        "outputId": "e740544c-44d9-4dec-9186-995675e7b681"
      },
      "execution_count": null,
      "outputs": [
        {
          "output_type": "stream",
          "name": "stdout",
          "text": [
            "0\n",
            "1\n",
            "2\n",
            "3\n",
            "4\n",
            "5\n",
            "6\n",
            "7\n",
            "8\n",
            "9\n",
            "10\n",
            "11\n",
            "12\n",
            "13\n",
            "14\n",
            "15\n",
            "16\n",
            "17\n",
            "18\n",
            "19\n",
            "20\n",
            "21\n",
            "22\n",
            "23\n",
            "24\n",
            "25\n",
            "26\n",
            "27\n",
            "28\n",
            "29\n",
            "30\n",
            "31\n",
            "32\n",
            "33\n",
            "34\n",
            "35\n",
            "36\n",
            "37\n",
            "38\n",
            "39\n",
            "40\n",
            "41\n",
            "42\n",
            "43\n",
            "44\n",
            "45\n",
            "46\n",
            "47\n",
            "48\n",
            "49\n",
            "50\n",
            "51\n",
            "52\n",
            "53\n",
            "54\n",
            "55\n",
            "56\n",
            "57\n",
            "58\n",
            "59\n",
            "60\n",
            "61\n",
            "62\n",
            "63\n",
            "64\n",
            "65\n",
            "66\n",
            "67\n",
            "68\n",
            "69\n",
            "70\n",
            "71\n",
            "72\n",
            "73\n",
            "74\n",
            "75\n",
            "76\n",
            "77\n",
            "78\n",
            "79\n",
            "80\n",
            "81\n",
            "82\n",
            "83\n",
            "84\n",
            "85\n",
            "86\n",
            "87\n",
            "88\n",
            "89\n",
            "90\n",
            "91\n",
            "92\n",
            "93\n",
            "94\n",
            "95\n",
            "96\n",
            "97\n",
            "98\n",
            "99\n"
          ]
        }
      ]
    },
    {
      "cell_type": "code",
      "source": [
        "#b:\n",
        "for i in range(100):\n",
        "  if(i%7 == 0):\n",
        "    print(i)\n"
      ],
      "metadata": {
        "id": "LCxRYILMzoQp",
        "colab": {
          "base_uri": "https://localhost:8080/"
        },
        "outputId": "2a4ed645-5647-4936-8912-3c0081a93755"
      },
      "execution_count": null,
      "outputs": [
        {
          "output_type": "stream",
          "name": "stdout",
          "text": [
            "0\n",
            "7\n",
            "14\n",
            "21\n",
            "28\n",
            "35\n",
            "42\n",
            "49\n",
            "56\n",
            "63\n",
            "70\n",
            "77\n",
            "84\n",
            "91\n",
            "98\n"
          ]
        }
      ]
    },
    {
      "cell_type": "code",
      "source": [
        "#c:\n",
        "for i in range(1,100):\n",
        "  if(i%3 != 0 and i%5 == 0):\n",
        "    print(i)"
      ],
      "metadata": {
        "colab": {
          "base_uri": "https://localhost:8080/"
        },
        "id": "WGWU_AZ80NCj",
        "outputId": "f6acda0d-dae7-4df5-9775-02d38483ca8f"
      },
      "execution_count": null,
      "outputs": [
        {
          "output_type": "stream",
          "name": "stdout",
          "text": [
            "5\n",
            "10\n",
            "20\n",
            "25\n",
            "35\n",
            "40\n",
            "50\n",
            "55\n",
            "65\n",
            "70\n",
            "80\n",
            "85\n",
            "95\n"
          ]
        }
      ]
    },
    {
      "cell_type": "markdown",
      "source": [
        " Print for each of the numbers x = 2, . . . 20, all numbers that divide x, excluding 1 and x. Hence, for 18, it should print 2 3 6 9."
      ],
      "metadata": {
        "id": "_t6AT_3yznmR"
      }
    },
    {
      "cell_type": "code",
      "source": [
        "for i in range(20,2,-1):\n",
        "  print(\"The number \" + str(i) + \" is divided by: \")\n",
        "  count = 0\n",
        "  for j in range(2,i):\n",
        "    if(i%j==0):\n",
        "      count = count + 1\n",
        "      print(j)\n",
        "  if(count==0):\n",
        "    print(\"None, it is prime\")"
      ],
      "metadata": {
        "colab": {
          "base_uri": "https://localhost:8080/"
        },
        "id": "I0zb6B8fzEdC",
        "outputId": "5aa5c2d8-3e2d-406a-ac53-3d7bdef1b93b"
      },
      "execution_count": 167,
      "outputs": [
        {
          "output_type": "stream",
          "name": "stdout",
          "text": [
            "The number 20 is divided by: \n",
            "2\n",
            "4\n",
            "5\n",
            "10\n",
            "The number 19 is divided by: \n",
            "None, it is prime\n",
            "The number 18 is divided by: \n",
            "2\n",
            "3\n",
            "6\n",
            "9\n",
            "The number 17 is divided by: \n",
            "None, it is prime\n",
            "The number 16 is divided by: \n",
            "2\n",
            "4\n",
            "8\n",
            "The number 15 is divided by: \n",
            "3\n",
            "5\n",
            "The number 14 is divided by: \n",
            "2\n",
            "7\n",
            "The number 13 is divided by: \n",
            "None, it is prime\n",
            "The number 12 is divided by: \n",
            "2\n",
            "3\n",
            "4\n",
            "6\n",
            "The number 11 is divided by: \n",
            "None, it is prime\n",
            "The number 10 is divided by: \n",
            "2\n",
            "5\n",
            "The number 9 is divided by: \n",
            "3\n",
            "The number 8 is divided by: \n",
            "2\n",
            "4\n",
            "The number 7 is divided by: \n",
            "None, it is prime\n",
            "The number 6 is divided by: \n",
            "2\n",
            "3\n",
            "The number 5 is divided by: \n",
            "None, it is prime\n",
            "The number 4 is divided by: \n",
            "2\n",
            "The number 3 is divided by: \n",
            "None, it is prime\n"
          ]
        }
      ]
    },
    {
      "cell_type": "markdown",
      "source": [
        "3. Exercise 2.3: Simple while loops\n",
        "\n",
        "Instead of using a for loop, use a while loop to:\n",
        "\n",
        "(a) Print the numbers 0 to 100\n",
        "(b) Print the numbers 0 to 100 that are divisible by 7"
      ],
      "metadata": {
        "id": "EdNBJJb-1Xf4"
      }
    },
    {
      "cell_type": "code",
      "source": [
        "i=0\n",
        "while i<=100:\n",
        "  print(i)\n",
        "  i = i + 1"
      ],
      "metadata": {
        "id": "oKx1pLjf1vOI",
        "colab": {
          "base_uri": "https://localhost:8080/"
        },
        "outputId": "c26b74a3-13de-4d09-ef34-9baec0c373f4"
      },
      "execution_count": null,
      "outputs": [
        {
          "output_type": "stream",
          "name": "stdout",
          "text": [
            "0\n",
            "1\n",
            "2\n",
            "3\n",
            "4\n",
            "5\n",
            "6\n",
            "7\n",
            "8\n",
            "9\n",
            "10\n",
            "11\n",
            "12\n",
            "13\n",
            "14\n",
            "15\n",
            "16\n",
            "17\n",
            "18\n",
            "19\n",
            "20\n",
            "21\n",
            "22\n",
            "23\n",
            "24\n",
            "25\n",
            "26\n",
            "27\n",
            "28\n",
            "29\n",
            "30\n",
            "31\n",
            "32\n",
            "33\n",
            "34\n",
            "35\n",
            "36\n",
            "37\n",
            "38\n",
            "39\n",
            "40\n",
            "41\n",
            "42\n",
            "43\n",
            "44\n",
            "45\n",
            "46\n",
            "47\n",
            "48\n",
            "49\n",
            "50\n",
            "51\n",
            "52\n",
            "53\n",
            "54\n",
            "55\n",
            "56\n",
            "57\n",
            "58\n",
            "59\n",
            "60\n",
            "61\n",
            "62\n",
            "63\n",
            "64\n",
            "65\n",
            "66\n",
            "67\n",
            "68\n",
            "69\n",
            "70\n",
            "71\n",
            "72\n",
            "73\n",
            "74\n",
            "75\n",
            "76\n",
            "77\n",
            "78\n",
            "79\n",
            "80\n",
            "81\n",
            "82\n",
            "83\n",
            "84\n",
            "85\n",
            "86\n",
            "87\n",
            "88\n",
            "89\n",
            "90\n",
            "91\n",
            "92\n",
            "93\n",
            "94\n",
            "95\n",
            "96\n",
            "97\n",
            "98\n",
            "99\n",
            "100\n"
          ]
        }
      ]
    },
    {
      "cell_type": "code",
      "source": [
        "i=0\n",
        "while i<=100:\n",
        "  if(i%7 == 0):\n",
        "    print(i)\n",
        "  i = i + 1"
      ],
      "metadata": {
        "colab": {
          "base_uri": "https://localhost:8080/"
        },
        "id": "8mruCtTM1lnx",
        "outputId": "60758247-bb18-4948-9198-27053507833d"
      },
      "execution_count": null,
      "outputs": [
        {
          "output_type": "stream",
          "name": "stdout",
          "text": [
            "0\n",
            "7\n",
            "14\n",
            "21\n",
            "28\n",
            "35\n",
            "42\n",
            "49\n",
            "56\n",
            "63\n",
            "70\n",
            "77\n",
            "84\n",
            "91\n",
            "98\n"
          ]
        }
      ]
    },
    {
      "cell_type": "markdown",
      "source": [
        "Exercise 2.4: Hangman update 1\n",
        "Let’s reconsider the hangman code we saw in class.1 We noted that the computer agent is not very good\n",
        "at guessing. Update the code such that the computer guesses ‘e’ first, and ’a’ second.\n",
        "Use the simulate.py script to see if this improves performance.\n",
        "Feel free to play around and see if you can do better! \n",
        "\n",
        "TO-DO"
      ],
      "metadata": {
        "id": "ZmLn4Eyllw1Z"
      }
    },
    {
      "cell_type": "markdown",
      "source": [
        "\n",
        "\n",
        "5. Exercise 2.5: While loops\n",
        "Use a while loop to find the first 20 numbers that are divisible by 5, 7 and 11, and print them Hint:\n",
        "store the number found so far in a variable.\n",
        "Pseudo-code:\n",
        "number found = 0\n",
        "x = 11\n",
        "while number found is less than 20:\n",
        "if x is divisible by 5, 7 and 11:\n",
        "print x\n",
        "increase number found by 1\n",
        "increase x by 1"
      ],
      "metadata": {
        "id": "REZvt0wh2V7p"
      }
    },
    {
      "cell_type": "code",
      "source": [
        "# I want to write: i = 11*5*7 they are all primes among them, and just add i to i while loop runs 20 times...\n",
        "# whatever... \n",
        "\n",
        "count = 0\n",
        "i = 1\n",
        "while count < 20:\n",
        "  if (i%(5*7*11) == 0):\n",
        "    print(i)\n",
        "    count = count + 1\n",
        "  i = i + 1"
      ],
      "metadata": {
        "colab": {
          "base_uri": "https://localhost:8080/"
        },
        "id": "QG2OyUqW2YGR",
        "outputId": "aa0eb9e3-a742-42f7-d59a-158f8041098e"
      },
      "execution_count": null,
      "outputs": [
        {
          "output_type": "stream",
          "name": "stdout",
          "text": [
            "385\n",
            "770\n",
            "1155\n",
            "1540\n",
            "1925\n",
            "2310\n",
            "2695\n",
            "3080\n",
            "3465\n",
            "3850\n",
            "4235\n",
            "4620\n",
            "5005\n",
            "5390\n",
            "5775\n",
            "6160\n",
            "6545\n",
            "6930\n",
            "7315\n",
            "7700\n"
          ]
        }
      ]
    },
    {
      "cell_type": "markdown",
      "source": [
        "6. Exercise 2.6: More while loops\n",
        "\n",
        "The smallest number that is divisible by 2, 3 and 4 is 12. Find the smallest number that is divisible by all integers between 1 and 10."
      ],
      "metadata": {
        "id": "KZsmUL784AXB"
      }
    },
    {
      "cell_type": "code",
      "source": [
        "#Primes do not have common divisor. So we need to strap the common primes then multiply them according to their biggest power in a gcd?\n",
        "\n",
        "import math"
      ],
      "metadata": {
        "id": "msXsfwyo4BXR"
      },
      "execution_count": null,
      "outputs": []
    },
    {
      "cell_type": "code",
      "source": [
        "#Least common multiple can be found by using greatest common divisor. In mathematical formulation:\n",
        "# a*b = lcm(a,b) * gcd(a,b)\n",
        "#so, we can say that lcm(a,b) = a*b / gcd(a,b)\n",
        "#I am gonna use math lib\n",
        "\n",
        "def lcm(a,b):\n",
        "  return (int)((a*b) / math.gcd(a,b))\n",
        "\n",
        "print(lcm(12,18))"
      ],
      "metadata": {
        "colab": {
          "base_uri": "https://localhost:8080/"
        },
        "id": "gtoeRzsU0XqA",
        "outputId": "f520c2aa-38e1-44af-e232-16e4568a5403"
      },
      "execution_count": 146,
      "outputs": [
        {
          "output_type": "stream",
          "name": "stdout",
          "text": [
            "36\n"
          ]
        }
      ]
    },
    {
      "cell_type": "code",
      "source": [
        ""
      ],
      "metadata": {
        "id": "_ATj4b_9iwNX"
      },
      "execution_count": 142,
      "outputs": []
    },
    {
      "cell_type": "code",
      "source": [
        "#OK, correct. \n",
        "#Now we need a loop to iterate and findout the max\n",
        "\n",
        "max = 1\n",
        "n = 10 #you can change it in order to find the lcm of nth number\n",
        "\n",
        "for i in range(1,n+1):\n",
        "  max = max*i\n",
        "\n",
        "val = 1\n",
        "for i in range(2,n+1):\n",
        "  val = lcm(val,i)\n",
        "\n",
        "print(val)"
      ],
      "metadata": {
        "colab": {
          "base_uri": "https://localhost:8080/"
        },
        "id": "LQMX0dj34o50",
        "outputId": "8c3fd216-11a8-4462-dc68-57b19058ccdd"
      },
      "execution_count": 165,
      "outputs": [
        {
          "output_type": "stream",
          "name": "stdout",
          "text": [
            "2520\n"
          ]
        }
      ]
    },
    {
      "cell_type": "markdown",
      "source": [
        "\n",
        "\n",
        "\n",
        "7. Exercise 2.7: Collatz sequence\n",
        "A Collatz sequence is formed as follows: We start with some number x0, and we find the next number\n",
        "in the sequence by\n",
        "xi+1 =\n",
        "(\n",
        "xi/2 if xi\n",
        "is even\n",
        "3xi + 1 if xi\n",
        "is odd\n",
        "If xi = 1, we stop iterating and have found the full sequence.\n",
        "For example, if we start with x0 = 5, we obtain the sequence:\n",
        "5 16 8 4 2 1\n",
        "It is conjectured, though not proven, that every chain eventually ends at 1.\n",
        "Print the Collatz sequence starting at x0 = 103.\n"
      ],
      "metadata": {
        "id": "oWsCQunyxZuz"
      }
    },
    {
      "cell_type": "code",
      "source": [
        "def collatz(start):\n",
        "  if(start == 1):\n",
        "    return start\n",
        "  elif(start%2 == 0):\n",
        "    print(start)\n",
        "    return collatz((int)(start/2))\n",
        "  else:\n",
        "    print(start)\n",
        "    return collatz((int)(start*3)+1)\n",
        "\n",
        "\n",
        "collatz(5)"
      ],
      "metadata": {
        "id": "Q1bVY1d2v8gf",
        "colab": {
          "base_uri": "https://localhost:8080/"
        },
        "outputId": "3e09dd87-226a-49f6-bea3-599071117b8c"
      },
      "execution_count": null,
      "outputs": [
        {
          "output_type": "stream",
          "name": "stdout",
          "text": [
            "5\n",
            "16\n",
            "8\n",
            "4\n",
            "2\n"
          ]
        },
        {
          "output_type": "execute_result",
          "data": {
            "text/plain": [
              "1"
            ]
          },
          "metadata": {},
          "execution_count": 120
        }
      ]
    },
    {
      "cell_type": "code",
      "source": [
        "collatz(103)"
      ],
      "metadata": {
        "colab": {
          "base_uri": "https://localhost:8080/"
        },
        "id": "b3G4f44ZDOXj",
        "outputId": "91783d22-c2dc-4af9-a32a-0b8b9adc014e"
      },
      "execution_count": null,
      "outputs": [
        {
          "output_type": "stream",
          "name": "stdout",
          "text": [
            "103\n",
            "310\n",
            "155\n",
            "466\n",
            "233\n",
            "700\n",
            "350\n",
            "175\n",
            "526\n",
            "263\n",
            "790\n",
            "395\n",
            "1186\n",
            "593\n",
            "1780\n",
            "890\n",
            "445\n",
            "1336\n",
            "668\n",
            "334\n",
            "167\n",
            "502\n",
            "251\n",
            "754\n",
            "377\n",
            "1132\n",
            "566\n",
            "283\n",
            "850\n",
            "425\n",
            "1276\n",
            "638\n",
            "319\n",
            "958\n",
            "479\n",
            "1438\n",
            "719\n",
            "2158\n",
            "1079\n",
            "3238\n",
            "1619\n",
            "4858\n",
            "2429\n",
            "7288\n",
            "3644\n",
            "1822\n",
            "911\n",
            "2734\n",
            "1367\n",
            "4102\n",
            "2051\n",
            "6154\n",
            "3077\n",
            "9232\n",
            "4616\n",
            "2308\n",
            "1154\n",
            "577\n",
            "1732\n",
            "866\n",
            "433\n",
            "1300\n",
            "650\n",
            "325\n",
            "976\n",
            "488\n",
            "244\n",
            "122\n",
            "61\n",
            "184\n",
            "92\n",
            "46\n",
            "23\n",
            "70\n",
            "35\n",
            "106\n",
            "53\n",
            "160\n",
            "80\n",
            "40\n",
            "20\n",
            "10\n",
            "5\n",
            "16\n",
            "8\n",
            "4\n",
            "2\n"
          ]
        },
        {
          "output_type": "execute_result",
          "data": {
            "text/plain": [
              "1"
            ]
          },
          "metadata": {},
          "execution_count": 121
        }
      ]
    },
    {
      "cell_type": "markdown",
      "source": [
        "# C. Functions\n",
        "\n",
        "1. Exercise 3.1: Hello\n",
        "\n",
        "(a) Write a function hello_world that prints ’Hello, world!’\n",
        "\n",
        "(b) Write a function hello_name(name) that prints ’Hello, name!’ where name is a string.\n",
        "\n",
        "(c) Explain the difference between the print and return keywords. What would change if instead of\n",
        "print you would use return?\n",
        "\n",
        "**Answer:** \n",
        "The code below shows the (b)'s implementation. In the (a)'s implementation, you just need to remove the name parameter and hardcode the print part as \"Hello, world!\" \n",
        "\n",
        "(c) Just returning the value will show the raw value of the last output. However, printing it changes it into a display in the console permanently."
      ],
      "metadata": {
        "id": "AZw5buGMMBha"
      }
    },
    {
      "cell_type": "code",
      "source": [
        "def hello_world(name):\n",
        "  print(\"Hello, \" + name + \"!\")\n",
        "\n",
        "hello_world(\"Esra\")"
      ],
      "metadata": {
        "colab": {
          "base_uri": "https://localhost:8080/"
        },
        "id": "-Qd4oDQ4ME_-",
        "outputId": "f3487ecc-a79d-4a82-aa58-37d3a08ab813"
      },
      "execution_count": null,
      "outputs": [
        {
          "output_type": "stream",
          "name": "stdout",
          "text": [
            "Hello, Esra!\n"
          ]
        }
      ]
    },
    {
      "cell_type": "markdown",
      "source": [
        "2. Exercise 3.2: Polynomial\n",
        "\n",
        "Write a function that evaluates the polynomial 3x2 − x + 2."
      ],
      "metadata": {
        "id": "IJY-cIjDNVEJ"
      }
    },
    {
      "cell_type": "code",
      "source": [
        "def poly(x):\n",
        "  return 3*(x**2) - x + 2\n",
        "\n",
        "poly(3)"
      ],
      "metadata": {
        "colab": {
          "base_uri": "https://localhost:8080/"
        },
        "id": "CABkjPo8NWVY",
        "outputId": "9cc1ffa5-02ed-4382-e6f1-7d1c75e10a4a"
      },
      "execution_count": null,
      "outputs": [
        {
          "output_type": "execute_result",
          "data": {
            "text/plain": [
              "26"
            ]
          },
          "metadata": {},
          "execution_count": 123
        }
      ]
    },
    {
      "cell_type": "markdown",
      "source": [
        "3. Exercise 3.3: Maximum\n",
        "\n",
        "Write a function my_max(x,y) that returns the maximum of x and y. Do not use the max function, but\n",
        "use if instead in following two ways:\n",
        "\n",
        "(a) Use both if and else.\n",
        "\n",
        "(b) Use if but not else (nor elif)."
      ],
      "metadata": {
        "id": "sjReX9RXNkhk"
      }
    },
    {
      "cell_type": "code",
      "source": [
        "def my_max1(x,y):\n",
        "  if(x>y):\n",
        "    return x\n",
        "  else:\n",
        "    return y\n",
        "\n",
        "def my_max2(x,y):\n",
        "  if(x>y):\n",
        "    return x\n",
        "  return y\n",
        "\n",
        "\n",
        "print(my_max1(3,4))\n",
        "print(my_max2(3,4))\n"
      ],
      "metadata": {
        "colab": {
          "base_uri": "https://localhost:8080/"
        },
        "id": "q8vnrasKNuch",
        "outputId": "0f7c47cd-3f3d-47c3-9cfb-c3885985ae6a"
      },
      "execution_count": null,
      "outputs": [
        {
          "output_type": "stream",
          "name": "stdout",
          "text": [
            "4\n",
            "4\n"
          ]
        }
      ]
    },
    {
      "cell_type": "markdown",
      "source": [
        "\n",
        "\n",
        "4. Exercise 3.4: Primes\n",
        "\n",
        "(a) Write a function is_prime(n) that returns True only if n is prime.\n",
        "\n",
        "(b) Note that apart from 2 and 3, all primes are of the form 6k ± 1 (though not all numbers of the\n",
        "form 6k ± 1 are prime of course). Using this, we can improve the computation time by a factor 3.\n",
        "\n",
        "Update your function to use this.\n",
        "\n",
        "(c) Write a function that returns all primes up to n.\n",
        "\n",
        "(d) Write a function that returns the first n primes."
      ],
      "metadata": {
        "id": "x4lLnUf9NqBl"
      }
    },
    {
      "cell_type": "code",
      "source": [
        "# (a)\n",
        "def is_prime(n):\n",
        "  val = True\n",
        "  for i in range(2,(int)(n/2)+1):\n",
        "    if(n%i == 0):\n",
        "      val = False\n",
        "      break\n",
        "  return val\n",
        "\n",
        "is_prime(30)"
      ],
      "metadata": {
        "colab": {
          "base_uri": "https://localhost:8080/"
        },
        "id": "Mj9qnubNOUD6",
        "outputId": "9fca0515-85ad-482a-d2e7-93fcdd175152"
      },
      "execution_count": null,
      "outputs": [
        {
          "output_type": "execute_result",
          "data": {
            "text/plain": [
              "False"
            ]
          },
          "metadata": {},
          "execution_count": 125
        }
      ]
    },
    {
      "cell_type": "code",
      "source": [
        "# (b)\n",
        "def is_prime2(n):\n",
        "  val = False\n",
        "  if (n>3 and (n-1)%6 == 0):\n",
        "    for i in range(2,(int)(n/2)+1):\n",
        "      if(n%i == 0):\n",
        "        val = False\n",
        "        break\n",
        "      else:\n",
        "        val = True\n",
        "  return val\n",
        "\n",
        "print(is_prime(13))\n",
        "print(is_prime(14))"
      ],
      "metadata": {
        "colab": {
          "base_uri": "https://localhost:8080/"
        },
        "id": "hL52q6yuPOpE",
        "outputId": "cd016826-f5d9-40c3-8298-b654feaf45d7"
      },
      "execution_count": null,
      "outputs": [
        {
          "output_type": "stream",
          "name": "stdout",
          "text": [
            "True\n",
            "False\n"
          ]
        }
      ]
    },
    {
      "cell_type": "code",
      "source": [
        "#(c) Write a function that returns all primes up to n.\n",
        "\n",
        "#(d) Write a function that returns the first n primes.\n",
        "\n",
        "def all_primes(n):\n",
        "  arr = []\n",
        "  for i in range(2,n):\n",
        "    if(is_prime(i)):\n",
        "      arr.append(i)\n",
        "  return arr\n",
        "\n",
        "all_primes(18)\n",
        "\n",
        "\n",
        "def first_n(n):\n",
        "  arr = []\n",
        "  i = 2\n",
        "  while(len(arr) != n):\n",
        "    if(is_prime(i)):\n",
        "      arr.append(i)\n",
        "      i = i + 1\n",
        "    i = i + 1\n",
        "  return arr\n",
        "  \n",
        "\n",
        "print(first_n(10))"
      ],
      "metadata": {
        "colab": {
          "base_uri": "https://localhost:8080/"
        },
        "id": "cMx7bo2dQIM3",
        "outputId": "bb870a0e-ee63-45d3-a2ee-d85f2f0961b1"
      },
      "execution_count": null,
      "outputs": [
        {
          "output_type": "stream",
          "name": "stdout",
          "text": [
            "[2, 5, 7, 11, 13, 17, 19, 23, 29, 31]\n"
          ]
        }
      ]
    },
    {
      "cell_type": "markdown",
      "source": [
        "\n",
        "\n",
        "\n",
        "5. Exercise 3.5: Root finding\n",
        "\n",
        "Suppose f is a continuous function and f(a) < 0 and f(b) > 0 for some known a and b. For simplicity,\n",
        "assume a < b. Then, there must exist some c such that f(c) = 0.\n",
        "\n",
        "(a) Write a function root(f, a, b) that takes a function f and two floats a and b and returns the\n",
        "root c. Hint: check the sign at the midpoint of the interval.\n",
        "\n",
        "(b) Remove the assumption that a < b, and that f(a) < 0 and f(b) > 0, if your current code relies on\n",
        "them.\n",
        "\n",
        "(c) Add a check that prints\n",
        "’function evals have same sign’\n",
        "if f(a) > 0 and f(b) > 0 or if f(a) < 0 and f(b) < 0.\n",
        "\n",
        "\n",
        "Find middle point c= (a + b)/2 .\n",
        "If f(c) == 0, then c is the root of the solution.\n",
        "Else f(c) != 0\n",
        "If value f(a)*f(c) < 0 then root lies between a and c. So we recur for a and c\n",
        "Else If f(b)*f(c) < 0 then root lies between b and c. So we recur b and c.\n",
        "Else given function doesn’t follow one of assumptions.\n",
        "\n"
      ],
      "metadata": {
        "id": "LXmJlANJDktA"
      }
    },
    {
      "cell_type": "code",
      "source": [
        "import math"
      ],
      "metadata": {
        "id": "upSHB5-NgEdc"
      },
      "execution_count": null,
      "outputs": []
    },
    {
      "cell_type": "code",
      "source": [
        "#a\n",
        "def func(a: float) -> float:\n",
        "  return 2.0*a\n",
        "\n",
        "def same_signs(f, a, b):\n",
        "  if f(a)*f(b) > 0:\n",
        "    return True\n",
        "  else:\n",
        "    return False\n",
        "\n",
        "def root(f, a, b):\n",
        " \n",
        "    if (same_signs(f,a,b)):\n",
        "        return \"Something is wrong\"\n",
        "    c = a\n",
        "\n",
        "    #https://www.geeksforgeeks.org/program-for-bisection-method/\n",
        "    while ((b-a) > 0.01): #precision to escape infinity loop\n",
        "        c = (a+b)/2\n",
        "\n",
        "        if (f(c) == 0):\n",
        "            break #just exit loop, you found the one\n",
        "  \n",
        "        if (f(c)*f(a) < 0): #search between c and a\n",
        "            b = c\n",
        "        else: #search between c and b\n",
        "            a = c\n",
        "             \n",
        "    print(\"The value of root is : \",\"%.4f\"%c)\n",
        "\n",
        "root(func, -2.2, 2 )"
      ],
      "metadata": {
        "id": "A1rQIce9DR21",
        "colab": {
          "base_uri": "https://localhost:8080/"
        },
        "outputId": "d6c85956-93ee-4b51-d90a-04e0dfa6437e"
      },
      "execution_count": 164,
      "outputs": [
        {
          "output_type": "stream",
          "name": "stdout",
          "text": [
            "The value of root is :  0.0066\n"
          ]
        }
      ]
    },
    {
      "cell_type": "code",
      "source": [
        ""
      ],
      "metadata": {
        "id": "8gXLSiEYZtbS"
      },
      "execution_count": null,
      "outputs": []
    },
    {
      "cell_type": "code",
      "source": [
        ""
      ],
      "metadata": {
        "id": "0Xnnu7BPfMCu"
      },
      "execution_count": 153,
      "outputs": []
    },
    {
      "cell_type": "code",
      "source": [
        ""
      ],
      "metadata": {
        "id": "RQcjdbeRhXAP"
      },
      "execution_count": 153,
      "outputs": []
    }
  ]
}